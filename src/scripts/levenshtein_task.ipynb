{
 "metadata": {
  "language_info": {
   "codemirror_mode": {
    "name": "ipython",
    "version": 3
   },
   "file_extension": ".py",
   "mimetype": "text/x-python",
   "name": "python",
   "nbconvert_exporter": "python",
   "pygments_lexer": "ipython3",
   "version": "3.7.0"
  },
  "orig_nbformat": 4,
  "kernelspec": {
   "name": "python3",
   "display_name": "Python 3.7.0 64-bit ('dca': conda)"
  },
  "interpreter": {
   "hash": "3d8eba6de4fe67c5febc79c51414b7e35f52b0fa6295e22d9ec818df82458b74"
  }
 },
 "nbformat": 4,
 "nbformat_minor": 2,
 "cells": [
  {
   "cell_type": "code",
   "execution_count": 1,
   "metadata": {},
   "outputs": [],
   "source": [
    "import sys\n",
    "sys.path.append(os.path.abspath('../')) #nopep8\n",
    "import pandas as pd\n",
    "import numpy as np\n",
    "from classes.luca import Luca"
   ]
  },
  {
   "cell_type": "code",
   "execution_count": 2,
   "metadata": {},
   "outputs": [
    {
     "output_type": "stream",
     "name": "stdout",
     "text": [
      "{'Luna', 'Lucy', 'Lupa', 'Luce', 'Lua', 'Lula', 'Lucia', 'Yuca', 'Luma', 'Lucas', 'Cuca', 'Luba'}\n"
     ]
    }
   ],
   "source": [
    "# Grab data\n",
    "x = pd.read_csv('../../data/20210103_hundenamen.csv')\n",
    "dog_names = x.HUNDENAME.values\n",
    "\n",
    "# Instantiate Luca object\n",
    "L = Luca(target='Luca')\n",
    "\n",
    "# Get filtered names\n",
    "names = L.compute_distance(dog_names)\n",
    "\n",
    "# Show the dog names with Levenshtein distance of 1\n",
    "print(names)"
   ]
  },
  {
   "cell_type": "code",
   "execution_count": null,
   "metadata": {},
   "outputs": [],
   "source": []
  }
 ]
}